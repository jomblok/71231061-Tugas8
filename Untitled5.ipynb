{
  "nbformat": 4,
  "nbformat_minor": 0,
  "metadata": {
    "colab": {
      "provenance": []
    },
    "kernelspec": {
      "name": "python3",
      "display_name": "Python 3"
    },
    "language_info": {
      "name": "python"
    }
  },
  "cells": [
    {
      "cell_type": "markdown",
      "source": [
        "soal 1"
      ],
      "metadata": {
        "id": "X5YAcqROoDxZ"
      }
    },
    {
      "cell_type": "code",
      "source": [
        "def bandingkan_teks(file1, file2):\n",
        "  with open(file1, 'r') as f1, open(file2, 'r') as f2:\n",
        "    baris1 = f1.readlines()\n",
        "    baris2 = f2.readlines()\n",
        "\n",
        "    lebih_panjang = max(len(baris1), len(baris2))\n",
        "\n",
        "    for i in range(lebih_panjang):\n",
        "      if i < len(baris1):\n",
        "        baris_kiri = baris1[i].strip()\n",
        "      else:\n",
        "        baris_kiri = \"\"\n",
        "      if i < len(baris2):\n",
        "        baris_kanan = baris2[i].strip()\n",
        "      else:\n",
        "        baris_kanan = \"\"\n",
        "\n",
        "      if baris_kiri != baris_kanan:\n",
        "        print(f\"Perbedaan pada baris {i + 1}:\")\n",
        "        print(f\"File 1: {baris_kiri}\")\n",
        "        print(f\"File 2: {baris_kanan}\")\n",
        "\n",
        "if __name__ == \"__main__\":\n",
        "  file1 = \"banding1.txt\"\n",
        "  file2 = \"banding2.txt\"\n",
        "\n",
        "  bandingkan_teks(file1, file2)\n"
      ],
      "metadata": {
        "colab": {
          "base_uri": "https://localhost:8080/"
        },
        "id": "kDbXfl9eoEBC",
        "outputId": "5b9058ae-7bb5-4091-d8c3-ba5662682c50"
      },
      "execution_count": 2,
      "outputs": [
        {
          "output_type": "stream",
          "name": "stdout",
          "text": [
            "Perbedaan pada baris 2:\n",
            "File 1: ikan\n",
            "File 2: bombay\n",
            "Perbedaan pada baris 3:\n",
            "File 1: sapi\n",
            "File 2: bambu\n"
          ]
        }
      ]
    },
    {
      "cell_type": "markdown",
      "source": [
        "soal 2"
      ],
      "metadata": {
        "id": "00yi7fK6pUUx"
      }
    },
    {
      "cell_type": "code",
      "source": [
        "def main():\n",
        "    filename = 'soal.txt'\n",
        "    print(f\"nama file1: {filename}\")\n",
        "\n",
        "    with open(filename, 'r') as file:\n",
        "        for line in file:\n",
        "            question, answer = line.strip().split(' || ')\n",
        "            print(question)\n",
        "            user_answer = input(\"Jawab: \").strip().lower()\n",
        "            if user_answer == answer.lower():\n",
        "                print(\"Jawaban benar!\")\n",
        "            else:\n",
        "                print(\"Jawaban salah!\")\n",
        "\n",
        "if __name__ == \"__main__\":\n",
        "    main()"
      ],
      "metadata": {
        "colab": {
          "base_uri": "https://localhost:8080/"
        },
        "id": "pZHyROsTpVqq",
        "outputId": "48fc9e60-6a3a-4f11-8260-25bbb8906020"
      },
      "execution_count": 3,
      "outputs": [
        {
          "output_type": "stream",
          "name": "stdout",
          "text": [
            "nama file1: soal.txt\n",
            "1+1 =\n",
            "Jawab: 2\n",
            "Jawaban benar!\n",
            "Bendera Indonesia?\n",
            "Jawab: merah putih\n",
            "Jawaban benar!\n",
            "Kota gudeg adalah:\n",
            "Jawab: jakarta\n",
            "Jawaban salah!\n",
            "Komponen PC untuk penyimpanan file adalah...\n",
            "Jawab: harddisk\n",
            "Jawaban benar!\n",
            "50 * 20 =\n",
            "Jawab: 1000\n",
            "Jawaban benar!\n"
          ]
        }
      ]
    }
  ]
}